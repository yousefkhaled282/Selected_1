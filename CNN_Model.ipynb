{
 "cells": [
  {
   "cell_type": "code",
   "execution_count": 1,
   "metadata": {},
   "outputs": [],
   "source": [
    "import pandas as pd\n",
    "import numpy as np\n",
    "from sklearn.model_selection import train_test_split\n",
    "from sklearn.preprocessing import StandardScaler, LabelEncoder\n",
    "from scipy import stats\n"
   ]
  },
  {
   "cell_type": "code",
   "execution_count": 2,
   "metadata": {},
   "outputs": [
    {
     "name": "stdout",
     "output_type": "stream",
     "text": [
      "2.6.0\n"
     ]
    }
   ],
   "source": [
    "import tensorflow as tf\n",
    "from tensorflow.keras import Sequential\n",
    "from tensorflow.keras.layers import Flatten, Dense, Dropout, BatchNormalization\n",
    "from tensorflow.keras.layers import Conv2D, MaxPool2D\n",
    "from tensorflow.keras.optimizers import Adam\n",
    "print(tf.__version__)"
   ]
  },
  {
   "cell_type": "code",
   "execution_count": 5,
   "metadata": {},
   "outputs": [],
   "source": [
    "df=pd.read_csv('test_appdata.csv')"
   ]
  },
  {
   "cell_type": "code",
   "execution_count": null,
   "metadata": {},
   "outputs": [],
   "source": []
  },
  {
   "cell_type": "code",
   "execution_count": 6,
   "metadata": {},
   "outputs": [
    {
     "data": {
      "text/html": [
       "<div>\n",
       "<style scoped>\n",
       "    .dataframe tbody tr th:only-of-type {\n",
       "        vertical-align: middle;\n",
       "    }\n",
       "\n",
       "    .dataframe tbody tr th {\n",
       "        vertical-align: top;\n",
       "    }\n",
       "\n",
       "    .dataframe thead th {\n",
       "        text-align: right;\n",
       "    }\n",
       "</style>\n",
       "<table border=\"1\" class=\"dataframe\">\n",
       "  <thead>\n",
       "    <tr style=\"text-align: right;\">\n",
       "      <th></th>\n",
       "      <th>timeElapsed</th>\n",
       "      <th>x</th>\n",
       "      <th>y</th>\n",
       "      <th>z</th>\n",
       "      <th>label</th>\n",
       "    </tr>\n",
       "  </thead>\n",
       "  <tbody>\n",
       "    <tr>\n",
       "      <td>0</td>\n",
       "      <td>0</td>\n",
       "      <td>0.75</td>\n",
       "      <td>-9.53</td>\n",
       "      <td>1.04</td>\n",
       "      <td>Standing</td>\n",
       "    </tr>\n",
       "    <tr>\n",
       "      <td>1</td>\n",
       "      <td>1</td>\n",
       "      <td>0.76</td>\n",
       "      <td>-9.55</td>\n",
       "      <td>1.05</td>\n",
       "      <td>Standing</td>\n",
       "    </tr>\n",
       "    <tr>\n",
       "      <td>2</td>\n",
       "      <td>2</td>\n",
       "      <td>0.77</td>\n",
       "      <td>-9.53</td>\n",
       "      <td>1.05</td>\n",
       "      <td>Standing</td>\n",
       "    </tr>\n",
       "    <tr>\n",
       "      <td>3</td>\n",
       "      <td>3</td>\n",
       "      <td>0.80</td>\n",
       "      <td>-9.53</td>\n",
       "      <td>1.01</td>\n",
       "      <td>Standing</td>\n",
       "    </tr>\n",
       "    <tr>\n",
       "      <td>4</td>\n",
       "      <td>4</td>\n",
       "      <td>0.87</td>\n",
       "      <td>-9.55</td>\n",
       "      <td>1.03</td>\n",
       "      <td>Standing</td>\n",
       "    </tr>\n",
       "  </tbody>\n",
       "</table>\n",
       "</div>"
      ],
      "text/plain": [
       "   timeElapsed     x     y     z     label\n",
       "0            0  0.75 -9.53  1.04  Standing\n",
       "1            1  0.76 -9.55  1.05  Standing\n",
       "2            2  0.77 -9.53  1.05  Standing\n",
       "3            3  0.80 -9.53  1.01  Standing\n",
       "4            4  0.87 -9.55  1.03  Standing"
      ]
     },
     "execution_count": 6,
     "metadata": {},
     "output_type": "execute_result"
    }
   ],
   "source": [
    "df.head()"
   ]
  },
  {
   "cell_type": "code",
   "execution_count": 7,
   "metadata": {},
   "outputs": [
    {
     "data": {
      "text/plain": [
       "Walking       100033\n",
       "Sitting        91000\n",
       "Upstairs       66095\n",
       "Downstairs     42443\n",
       "Standing       42353\n",
       "Name: label, dtype: int64"
      ]
     },
     "execution_count": 7,
     "metadata": {},
     "output_type": "execute_result"
    }
   ],
   "source": [
    "df['label'].value_counts()"
   ]
  },
  {
   "cell_type": "code",
   "execution_count": 8,
   "metadata": {},
   "outputs": [],
   "source": [
    "from sklearn.preprocessing import LabelEncoder"
   ]
  },
  {
   "cell_type": "code",
   "execution_count": 9,
   "metadata": {},
   "outputs": [
    {
     "data": {
      "text/html": [
       "<div>\n",
       "<style scoped>\n",
       "    .dataframe tbody tr th:only-of-type {\n",
       "        vertical-align: middle;\n",
       "    }\n",
       "\n",
       "    .dataframe tbody tr th {\n",
       "        vertical-align: top;\n",
       "    }\n",
       "\n",
       "    .dataframe thead th {\n",
       "        text-align: right;\n",
       "    }\n",
       "</style>\n",
       "<table border=\"1\" class=\"dataframe\">\n",
       "  <thead>\n",
       "    <tr style=\"text-align: right;\">\n",
       "      <th></th>\n",
       "      <th>timeElapsed</th>\n",
       "      <th>x</th>\n",
       "      <th>y</th>\n",
       "      <th>z</th>\n",
       "      <th>label</th>\n",
       "      <th>ActivityLabel</th>\n",
       "    </tr>\n",
       "  </thead>\n",
       "  <tbody>\n",
       "    <tr>\n",
       "      <td>341919</td>\n",
       "      <td>341919</td>\n",
       "      <td>1.13</td>\n",
       "      <td>-0.77</td>\n",
       "      <td>9.86</td>\n",
       "      <td>Standing</td>\n",
       "      <td>2</td>\n",
       "    </tr>\n",
       "    <tr>\n",
       "      <td>341920</td>\n",
       "      <td>341920</td>\n",
       "      <td>1.91</td>\n",
       "      <td>0.20</td>\n",
       "      <td>10.12</td>\n",
       "      <td>Standing</td>\n",
       "      <td>2</td>\n",
       "    </tr>\n",
       "    <tr>\n",
       "      <td>341921</td>\n",
       "      <td>341921</td>\n",
       "      <td>2.53</td>\n",
       "      <td>1.34</td>\n",
       "      <td>10.42</td>\n",
       "      <td>Standing</td>\n",
       "      <td>2</td>\n",
       "    </tr>\n",
       "    <tr>\n",
       "      <td>341922</td>\n",
       "      <td>341922</td>\n",
       "      <td>1.75</td>\n",
       "      <td>0.68</td>\n",
       "      <td>9.61</td>\n",
       "      <td>Standing</td>\n",
       "      <td>2</td>\n",
       "    </tr>\n",
       "    <tr>\n",
       "      <td>341923</td>\n",
       "      <td>341923</td>\n",
       "      <td>1.84</td>\n",
       "      <td>1.27</td>\n",
       "      <td>10.54</td>\n",
       "      <td>Standing</td>\n",
       "      <td>2</td>\n",
       "    </tr>\n",
       "  </tbody>\n",
       "</table>\n",
       "</div>"
      ],
      "text/plain": [
       "        timeElapsed     x     y      z     label  ActivityLabel\n",
       "341919       341919  1.13 -0.77   9.86  Standing              2\n",
       "341920       341920  1.91  0.20  10.12  Standing              2\n",
       "341921       341921  2.53  1.34  10.42  Standing              2\n",
       "341922       341922  1.75  0.68   9.61  Standing              2\n",
       "341923       341923  1.84  1.27  10.54  Standing              2"
      ]
     },
     "execution_count": 9,
     "metadata": {},
     "output_type": "execute_result"
    }
   ],
   "source": [
    "label = LabelEncoder()\n",
    "df['ActivityLabel'] = label.fit_transform(df['label'])\n",
    "df.tail()"
   ]
  },
  {
   "cell_type": "code",
   "execution_count": 10,
   "metadata": {},
   "outputs": [
    {
     "data": {
      "text/plain": [
       "array(['Downstairs', 'Sitting', 'Standing', 'Upstairs', 'Walking'],\n",
       "      dtype=object)"
      ]
     },
     "execution_count": 10,
     "metadata": {},
     "output_type": "execute_result"
    }
   ],
   "source": [
    "label.classes_\n",
    "\n"
   ]
  },
  {
   "cell_type": "markdown",
   "metadata": {},
   "source": [
    "### Standardized data "
   ]
  },
  {
   "cell_type": "code",
   "execution_count": 11,
   "metadata": {},
   "outputs": [],
   "source": [
    "X = df[['x', 'y', 'z']]\n",
    "y = df['ActivityLabel']"
   ]
  },
  {
   "cell_type": "code",
   "execution_count": 12,
   "metadata": {},
   "outputs": [
    {
     "data": {
      "text/html": [
       "<div>\n",
       "<style scoped>\n",
       "    .dataframe tbody tr th:only-of-type {\n",
       "        vertical-align: middle;\n",
       "    }\n",
       "\n",
       "    .dataframe tbody tr th {\n",
       "        vertical-align: top;\n",
       "    }\n",
       "\n",
       "    .dataframe thead th {\n",
       "        text-align: right;\n",
       "    }\n",
       "</style>\n",
       "<table border=\"1\" class=\"dataframe\">\n",
       "  <thead>\n",
       "    <tr style=\"text-align: right;\">\n",
       "      <th></th>\n",
       "      <th>x</th>\n",
       "      <th>y</th>\n",
       "      <th>z</th>\n",
       "      <th>ActivityLabel</th>\n",
       "    </tr>\n",
       "  </thead>\n",
       "  <tbody>\n",
       "    <tr>\n",
       "      <td>0</td>\n",
       "      <td>-0.477386</td>\n",
       "      <td>-0.959055</td>\n",
       "      <td>0.105813</td>\n",
       "      <td>2</td>\n",
       "    </tr>\n",
       "    <tr>\n",
       "      <td>1</td>\n",
       "      <td>-0.475363</td>\n",
       "      <td>-0.962177</td>\n",
       "      <td>0.107647</td>\n",
       "      <td>2</td>\n",
       "    </tr>\n",
       "    <tr>\n",
       "      <td>2</td>\n",
       "      <td>-0.473341</td>\n",
       "      <td>-0.959055</td>\n",
       "      <td>0.107647</td>\n",
       "      <td>2</td>\n",
       "    </tr>\n",
       "    <tr>\n",
       "      <td>3</td>\n",
       "      <td>-0.467273</td>\n",
       "      <td>-0.959055</td>\n",
       "      <td>0.100313</td>\n",
       "      <td>2</td>\n",
       "    </tr>\n",
       "    <tr>\n",
       "      <td>4</td>\n",
       "      <td>-0.453115</td>\n",
       "      <td>-0.962177</td>\n",
       "      <td>0.103980</td>\n",
       "      <td>2</td>\n",
       "    </tr>\n",
       "    <tr>\n",
       "      <td>...</td>\n",
       "      <td>...</td>\n",
       "      <td>...</td>\n",
       "      <td>...</td>\n",
       "      <td>...</td>\n",
       "    </tr>\n",
       "    <tr>\n",
       "      <td>341919</td>\n",
       "      <td>-0.400528</td>\n",
       "      <td>0.408408</td>\n",
       "      <td>1.723041</td>\n",
       "      <td>2</td>\n",
       "    </tr>\n",
       "    <tr>\n",
       "      <td>341920</td>\n",
       "      <td>-0.242768</td>\n",
       "      <td>0.559828</td>\n",
       "      <td>1.770715</td>\n",
       "      <td>2</td>\n",
       "    </tr>\n",
       "    <tr>\n",
       "      <td>341921</td>\n",
       "      <td>-0.117368</td>\n",
       "      <td>0.737785</td>\n",
       "      <td>1.825723</td>\n",
       "      <td>2</td>\n",
       "    </tr>\n",
       "    <tr>\n",
       "      <td>341922</td>\n",
       "      <td>-0.275129</td>\n",
       "      <td>0.634757</td>\n",
       "      <td>1.677202</td>\n",
       "      <td>2</td>\n",
       "    </tr>\n",
       "    <tr>\n",
       "      <td>341923</td>\n",
       "      <td>-0.256926</td>\n",
       "      <td>0.726858</td>\n",
       "      <td>1.847726</td>\n",
       "      <td>2</td>\n",
       "    </tr>\n",
       "  </tbody>\n",
       "</table>\n",
       "<p>341924 rows × 4 columns</p>\n",
       "</div>"
      ],
      "text/plain": [
       "               x         y         z  ActivityLabel\n",
       "0      -0.477386 -0.959055  0.105813              2\n",
       "1      -0.475363 -0.962177  0.107647              2\n",
       "2      -0.473341 -0.959055  0.107647              2\n",
       "3      -0.467273 -0.959055  0.100313              2\n",
       "4      -0.453115 -0.962177  0.103980              2\n",
       "...          ...       ...       ...            ...\n",
       "341919 -0.400528  0.408408  1.723041              2\n",
       "341920 -0.242768  0.559828  1.770715              2\n",
       "341921 -0.117368  0.737785  1.825723              2\n",
       "341922 -0.275129  0.634757  1.677202              2\n",
       "341923 -0.256926  0.726858  1.847726              2\n",
       "\n",
       "[341924 rows x 4 columns]"
      ]
     },
     "execution_count": 12,
     "metadata": {},
     "output_type": "execute_result"
    }
   ],
   "source": [
    "scaler = StandardScaler()\n",
    "X = scaler.fit_transform(X)\n",
    "\n",
    "scaled_X = pd.DataFrame(data = X, columns = ['x', 'y', 'z'])\n",
    "scaled_X['ActivityLabel'] = y.values\n",
    "\n",
    "scaled_X"
   ]
  },
  {
   "cell_type": "markdown",
   "metadata": {},
   "source": [
    "### Frame Preparation "
   ]
  },
  {
   "cell_type": "code",
   "execution_count": 13,
   "metadata": {},
   "outputs": [],
   "source": [
    "Fs = 50\n",
    "frame_size = Fs*4 # 80\n",
    "hop_size = Fs*2 # 40"
   ]
  },
  {
   "cell_type": "code",
   "execution_count": 14,
   "metadata": {},
   "outputs": [],
   "source": [
    "def get_frames(df, frame_size, hop_size):\n",
    "    N_FEATURES = 3\n",
    "    frames = []\n",
    "    labels = []\n",
    "    for i in range(0, len(df) - frame_size, hop_size):\n",
    "        x = df['x'].values[i: i + frame_size]\n",
    "        y = df['y'].values[i: i + frame_size]\n",
    "        z = df['z'].values[i: i + frame_size]\n",
    "        # Retrieve the most often used label in this segment\n",
    "        label = stats.mode(df['ActivityLabel'][i: i + frame_size])[0][0]\n",
    "\n",
    "        frames.append([x, y, z])\n",
    "        labels.append(label)\n",
    "\n",
    "    # Bring the segments into a better shape\n",
    "    frames = np.asarray(frames).reshape(-1, frame_size, N_FEATURES)\n",
    "    labels = np.asarray(labels)\n",
    "\n",
    "    return frames, labels"
   ]
  },
  {
   "cell_type": "code",
   "execution_count": 15,
   "metadata": {},
   "outputs": [],
   "source": [
    "X, y = get_frames(scaled_X, frame_size, hop_size)"
   ]
  },
  {
   "cell_type": "code",
   "execution_count": 16,
   "metadata": {},
   "outputs": [],
   "source": [
    "X_train, X_test, y_train, y_test = train_test_split(X, y, test_size = 0.3, random_state = 0, stratify = y)"
   ]
  },
  {
   "cell_type": "code",
   "execution_count": 17,
   "metadata": {},
   "outputs": [],
   "source": [
    "X_train = X_train.reshape(X_train.shape[0], X_train.shape[1], 3, 1)\n",
    "X_test = X_test.reshape(X_test.shape[0], X_test.shape[1], 3, 1)"
   ]
  },
  {
   "cell_type": "code",
   "execution_count": 18,
   "metadata": {},
   "outputs": [],
   "source": [
    "model = Sequential()\n",
    "model.add(Conv2D(16, (2, 2), activation = 'relu', input_shape = X_train[0].shape))\n",
    "model.add(Dropout(0.1))\n",
    "\n",
    "model.add(Conv2D(32, (2, 2), activation='relu'))\n",
    "model.add(Dropout(0.2))\n",
    "\n",
    "model.add(Flatten())\n",
    "\n",
    "model.add(Dense(64, activation = 'relu'))\n",
    "model.add(Dropout(0.5))\n",
    "\n",
    "model.add(Dense(6, activation='softmax'))\n"
   ]
  },
  {
   "cell_type": "code",
   "execution_count": 19,
   "metadata": {},
   "outputs": [],
   "source": [
    "model.compile(optimizer=Adam(learning_rate = 0.001), loss = 'sparse_categorical_crossentropy', metrics = ['accuracy'])"
   ]
  },
  {
   "cell_type": "code",
   "execution_count": 20,
   "metadata": {},
   "outputs": [
    {
     "name": "stdout",
     "output_type": "stream",
     "text": [
      "Epoch 1/40\n",
      "75/75 [==============================] - 3s 15ms/step - loss: 0.8800 - accuracy: 0.6421 - val_loss: 0.5920 - val_accuracy: 0.7729\n",
      "Epoch 2/40\n",
      "75/75 [==============================] - 1s 16ms/step - loss: 0.6490 - accuracy: 0.7446 - val_loss: 0.5487 - val_accuracy: 0.7895\n",
      "Epoch 3/40\n",
      "75/75 [==============================] - 1s 19ms/step - loss: 0.5764 - accuracy: 0.7709 - val_loss: 0.5116 - val_accuracy: 0.7934\n",
      "Epoch 4/40\n",
      "75/75 [==============================] - 1s 16ms/step - loss: 0.5303 - accuracy: 0.7776 - val_loss: 0.5075 - val_accuracy: 0.7895\n",
      "Epoch 5/40\n",
      "75/75 [==============================] - 1s 14ms/step - loss: 0.4835 - accuracy: 0.7968 - val_loss: 0.4974 - val_accuracy: 0.8109\n",
      "Epoch 6/40\n",
      "75/75 [==============================] - 1s 12ms/step - loss: 0.4708 - accuracy: 0.8002 - val_loss: 0.5035 - val_accuracy: 0.8177\n",
      "Epoch 7/40\n",
      "75/75 [==============================] - 1s 13ms/step - loss: 0.4608 - accuracy: 0.8056 - val_loss: 0.4903 - val_accuracy: 0.8080\n",
      "Epoch 8/40\n",
      "75/75 [==============================] - 1s 11ms/step - loss: 0.4457 - accuracy: 0.8165 - val_loss: 0.4714 - val_accuracy: 0.8314\n",
      "Epoch 9/40\n",
      "75/75 [==============================] - 1s 12ms/step - loss: 0.4074 - accuracy: 0.8378 - val_loss: 0.4942 - val_accuracy: 0.8216\n",
      "Epoch 10/40\n",
      "75/75 [==============================] - 1s 13ms/step - loss: 0.3924 - accuracy: 0.8361 - val_loss: 0.4906 - val_accuracy: 0.8177\n",
      "Epoch 11/40\n",
      "75/75 [==============================] - 1s 14ms/step - loss: 0.3746 - accuracy: 0.8449 - val_loss: 0.5218 - val_accuracy: 0.7817\n",
      "Epoch 12/40\n",
      "75/75 [==============================] - 1s 12ms/step - loss: 0.3727 - accuracy: 0.8495 - val_loss: 0.5003 - val_accuracy: 0.8158\n",
      "Epoch 13/40\n",
      "75/75 [==============================] - 1s 11ms/step - loss: 0.3574 - accuracy: 0.8570 - val_loss: 0.5227 - val_accuracy: 0.7885\n",
      "Epoch 14/40\n",
      "75/75 [==============================] - 1s 13ms/step - loss: 0.3466 - accuracy: 0.8533 - val_loss: 0.5351 - val_accuracy: 0.8285\n",
      "Epoch 15/40\n",
      "75/75 [==============================] - 1s 15ms/step - loss: 0.3413 - accuracy: 0.8570 - val_loss: 0.5092 - val_accuracy: 0.8246\n",
      "Epoch 16/40\n",
      "75/75 [==============================] - 1s 12ms/step - loss: 0.3279 - accuracy: 0.8612 - val_loss: 0.5139 - val_accuracy: 0.8246\n",
      "Epoch 17/40\n",
      "75/75 [==============================] - 1s 13ms/step - loss: 0.3113 - accuracy: 0.8733 - val_loss: 0.6033 - val_accuracy: 0.8246\n",
      "Epoch 18/40\n",
      "75/75 [==============================] - 1s 11ms/step - loss: 0.3169 - accuracy: 0.8704 - val_loss: 0.5393 - val_accuracy: 0.8216\n",
      "Epoch 19/40\n",
      "75/75 [==============================] - 1s 12ms/step - loss: 0.3165 - accuracy: 0.8691 - val_loss: 0.5755 - val_accuracy: 0.8109\n",
      "Epoch 20/40\n",
      "75/75 [==============================] - 1s 12ms/step - loss: 0.3124 - accuracy: 0.8704 - val_loss: 0.5641 - val_accuracy: 0.8216\n",
      "Epoch 21/40\n",
      "75/75 [==============================] - 1s 11ms/step - loss: 0.2955 - accuracy: 0.8742 - val_loss: 0.5907 - val_accuracy: 0.8246\n",
      "Epoch 22/40\n",
      "75/75 [==============================] - 1s 11ms/step - loss: 0.2753 - accuracy: 0.8855 - val_loss: 0.5997 - val_accuracy: 0.8226\n",
      "Epoch 23/40\n",
      "75/75 [==============================] - 1s 14ms/step - loss: 0.2859 - accuracy: 0.8821 - val_loss: 0.5917 - val_accuracy: 0.8177\n",
      "Epoch 24/40\n",
      "75/75 [==============================] - 1s 12ms/step - loss: 0.2699 - accuracy: 0.8901 - val_loss: 0.6393 - val_accuracy: 0.8246\n",
      "Epoch 25/40\n",
      "75/75 [==============================] - ETA: 0s - loss: 0.2689 - accuracy: 0.88 - 1s 12ms/step - loss: 0.2666 - accuracy: 0.8867 - val_loss: 0.6077 - val_accuracy: 0.8324\n",
      "Epoch 26/40\n",
      "75/75 [==============================] - 1s 11ms/step - loss: 0.2611 - accuracy: 0.8926 - val_loss: 0.6011 - val_accuracy: 0.8294\n",
      "Epoch 27/40\n",
      "75/75 [==============================] - 1s 12ms/step - loss: 0.2516 - accuracy: 0.8988 - val_loss: 0.5729 - val_accuracy: 0.8207\n",
      "Epoch 28/40\n",
      "75/75 [==============================] - 1s 12ms/step - loss: 0.2499 - accuracy: 0.8905 - val_loss: 0.6109 - val_accuracy: 0.8138\n",
      "Epoch 29/40\n",
      "75/75 [==============================] - 1s 12ms/step - loss: 0.2450 - accuracy: 0.8972 - val_loss: 0.5963 - val_accuracy: 0.8255\n",
      "Epoch 30/40\n",
      "75/75 [==============================] - 1s 12ms/step - loss: 0.2373 - accuracy: 0.9022 - val_loss: 0.6582 - val_accuracy: 0.8226\n",
      "Epoch 31/40\n",
      "75/75 [==============================] - 1s 13ms/step - loss: 0.2275 - accuracy: 0.9072 - val_loss: 0.6274 - val_accuracy: 0.8255\n",
      "Epoch 32/40\n",
      "75/75 [==============================] - 1s 12ms/step - loss: 0.2328 - accuracy: 0.9001 - val_loss: 0.6401 - val_accuracy: 0.8304\n",
      "Epoch 33/40\n",
      "75/75 [==============================] - 1s 13ms/step - loss: 0.2358 - accuracy: 0.8934 - val_loss: 0.6294 - val_accuracy: 0.8294\n",
      "Epoch 34/40\n",
      "75/75 [==============================] - 1s 12ms/step - loss: 0.2220 - accuracy: 0.9114 - val_loss: 0.6549 - val_accuracy: 0.8363\n",
      "Epoch 35/40\n",
      "75/75 [==============================] - 1s 12ms/step - loss: 0.2148 - accuracy: 0.9068 - val_loss: 0.7602 - val_accuracy: 0.8197\n",
      "Epoch 36/40\n",
      "75/75 [==============================] - 1s 12ms/step - loss: 0.2045 - accuracy: 0.9189 - val_loss: 0.7245 - val_accuracy: 0.8265\n",
      "Epoch 37/40\n",
      "75/75 [==============================] - 1s 12ms/step - loss: 0.2251 - accuracy: 0.9072 - val_loss: 0.7628 - val_accuracy: 0.8304\n",
      "Epoch 38/40\n",
      "75/75 [==============================] - 1s 12ms/step - loss: 0.2056 - accuracy: 0.9122 - val_loss: 0.6655 - val_accuracy: 0.8363\n",
      "Epoch 39/40\n",
      "75/75 [==============================] - 1s 14ms/step - loss: 0.2132 - accuracy: 0.9151 - val_loss: 0.7627 - val_accuracy: 0.8314\n",
      "Epoch 40/40\n",
      "75/75 [==============================] - 1s 12ms/step - loss: 0.2038 - accuracy: 0.9168 - val_loss: 0.8451 - val_accuracy: 0.8099\n"
     ]
    }
   ],
   "source": [
    "history = model.fit(X_train, y_train, epochs = 40, validation_data= (X_test, y_test), verbose=1)"
   ]
  },
  {
   "cell_type": "code",
   "execution_count": 21,
   "metadata": {},
   "outputs": [],
   "source": [
    "from mlxtend.plotting import plot_confusion_matrix\n",
    "from sklearn.metrics import confusion_matrix"
   ]
  },
  {
   "cell_type": "code",
   "execution_count": 22,
   "metadata": {},
   "outputs": [],
   "source": [
    "pred = model.predict(X_test, batch_size = 32)\n",
    "pred = np.argmax(pred, axis=1)\n"
   ]
  },
  {
   "cell_type": "code",
   "execution_count": 23,
   "metadata": {},
   "outputs": [
    {
     "data": {
      "text/plain": [
       "(<Figure size 504x504 with 1 Axes>,\n",
       " <matplotlib.axes._subplots.AxesSubplot at 0x1fe00781f88>)"
      ]
     },
     "execution_count": 23,
     "metadata": {},
     "output_type": "execute_result"
    },
    {
     "data": {
      "image/png": "[encoded data removed]",
      "text/plain": [
       "<Figure size 504x504 with 1 Axes>"
      ]
     },
     "metadata": {
      "needs_background": "light"
     },
     "output_type": "display_data"
    }
   ],
   "source": [
    "import seaborn as sns\n",
    "mat = confusion_matrix(y_test, pred)\n",
    "plot_confusion_matrix(conf_mat=mat, class_names=label.classes_, show_normed=True, figsize=(7,7))"
   ]
  },
  {
   "cell_type": "code",
   "execution_count": 24,
   "metadata": {},
   "outputs": [
    {
     "ename": "NameError",
     "evalue": "name 'y_labeled' is not defined",
     "output_type": "error",
     "traceback": [
      "\u001b[1;31m---------------------------------------------------------------------------\u001b[0m",
      "\u001b[1;31mNameError\u001b[0m                                 Traceback (most recent call last)",
      "\u001b[1;32m<ipython-input-24-5ee17c5a899a>\u001b[0m in \u001b[0;36m<module>\u001b[1;34m\u001b[0m\n\u001b[0;32m      1\u001b[0m \u001b[1;32mimport\u001b[0m \u001b[0mmatplotlib\u001b[0m\u001b[1;33m.\u001b[0m\u001b[0mpyplot\u001b[0m \u001b[1;32mas\u001b[0m \u001b[0mplt\u001b[0m\u001b[1;33m\u001b[0m\u001b[1;33m\u001b[0m\u001b[0m\n\u001b[1;32m----> 2\u001b[1;33m \u001b[0mz\u001b[0m\u001b[1;33m=\u001b[0m\u001b[0mlabel\u001b[0m\u001b[1;33m.\u001b[0m\u001b[0minverse_transform\u001b[0m\u001b[1;33m(\u001b[0m\u001b[0mnp\u001b[0m\u001b[1;33m.\u001b[0m\u001b[0munique\u001b[0m\u001b[1;33m(\u001b[0m\u001b[0my_labeled\u001b[0m\u001b[1;33m)\u001b[0m\u001b[1;33m)\u001b[0m\u001b[1;33m\u001b[0m\u001b[1;33m\u001b[0m\u001b[0m\n\u001b[0m\u001b[0;32m      3\u001b[0m \u001b[1;33m\u001b[0m\u001b[0m\n\u001b[0;32m      4\u001b[0m \u001b[0mcm\u001b[0m \u001b[1;33m=\u001b[0m \u001b[0mconfusion_matrix\u001b[0m\u001b[1;33m(\u001b[0m\u001b[0my_test\u001b[0m\u001b[1;33m,\u001b[0m \u001b[0mpred\u001b[0m\u001b[1;33m)\u001b[0m\u001b[1;33m\u001b[0m\u001b[1;33m\u001b[0m\u001b[0m\n\u001b[0;32m      5\u001b[0m \u001b[0mprint\u001b[0m\u001b[1;33m(\u001b[0m\u001b[1;34m\"Confusion matrix is :\\n \"\u001b[0m\u001b[1;33m,\u001b[0m \u001b[0mcm\u001b[0m\u001b[1;33m)\u001b[0m\u001b[1;33m\u001b[0m\u001b[1;33m\u001b[0m\u001b[0m\n",
      "\u001b[1;31mNameError\u001b[0m: name 'y_labeled' is not defined"
     ]
    }
   ],
   "source": [
    "import matplotlib.pyplot as plt\n",
    "z=label.inverse_transform(np.unique(y_labeled))\n",
    "\n",
    "cm = confusion_matrix(y_test, pred)\n",
    "print(\"Confusion matrix is :\\n \", cm)\n",
    "annot_kws = {\"ha\": 'left',\"va\": 'center','size': 10}\n",
    "plt.figure(figsize=(10,6))\n",
    "ax= plt.subplot()\n",
    "sns.heatmap(cm, annot=True, fmt='g', cmap = 'Blues',annot_kws=annot_kws, ax=ax); \n",
    "bottom, top = ax.get_ylim()\n",
    "ax.set_ylim(bottom + 0.5, top - 0.5)\n",
    "\n",
    "ax.set_xlabel('Predicted labels',fontsize=16)\n",
    "ax.set_ylabel('True labels',fontsize=16); \n",
    "\n",
    "plt.xticks(fontsize=10)\n",
    "plt.yticks(fontsize=10,rotation=0)\n",
    "ax.xaxis.set_ticklabels(z);\n",
    "ax.yaxis.set_ticklabels(z);\n"
   ]
  },
  {
   "cell_type": "code",
   "execution_count": 25,
   "metadata": {},
   "outputs": [
    {
     "name": "stdout",
     "output_type": "stream",
     "text": [
      "test loss, test acc: [0.13157951831817627, 1.0]\n"
     ]
    }
   ],
   "source": [
    "score = model.evaluate(X_test, pred, verbose=0)\n",
    "print(\"test loss, test acc:\", score)"
   ]
  },
  {
   "cell_type": "code",
   "execution_count": 26,
   "metadata": {},
   "outputs": [
    {
     "name": "stdout",
     "output_type": "stream",
     "text": [
      "Accuracy ---------> 0.81\n"
     ]
    }
   ],
   "source": [
    "from sklearn.metrics import  accuracy_score\n",
    "\n",
    "print('Accuracy --------->',round(accuracy_score(y_test, pred),2))"
   ]
  },
  {
   "cell_type": "code",
   "execution_count": null,
   "metadata": {},
   "outputs": [],
   "source": []
  },
  {
   "cell_type": "code",
   "execution_count": null,
   "metadata": {},
   "outputs": [],
   "source": []
  }
 ],
 "metadata": {
  "kernelspec": {
   "display_name": "Python 3",
   "language": "python",
   "name": "python3"
  },
  "language_info": {
   "codemirror_mode": {
    "name": "ipython",
    "version": 3
   },
   "file_extension": ".py",
   "mimetype": "text/x-python",
   "name": "python",
   "nbconvert_exporter": "python",
   "pygments_lexer": "ipython3",
   "version": "3.7.4"
  }
 },
 "nbformat": 4,
 "nbformat_minor": 4
}
